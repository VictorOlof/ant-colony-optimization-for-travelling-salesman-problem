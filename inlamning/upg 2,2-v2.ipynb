{
 "cells": [
  {
   "cell_type": "code",
   "execution_count": 1,
   "id": "8f4dae62-ef45-4b0d-9318-965c1c19a3d5",
   "metadata": {},
   "outputs": [],
   "source": [
    "import pandas as pd\n",
    "import numpy as np\n",
    "import random\n",
    "\n",
    "df = pd.read_csv('distances.csv')"
   ]
  },
  {
   "cell_type": "code",
   "execution_count": 2,
   "id": "63c41304-4825-4e26-a268-2328aa1c7e69",
   "metadata": {
    "tags": []
   },
   "outputs": [
    {
     "data": {
      "text/html": [
       "<div>\n",
       "<style scoped>\n",
       "    .dataframe tbody tr th:only-of-type {\n",
       "        vertical-align: middle;\n",
       "    }\n",
       "\n",
       "    .dataframe tbody tr th {\n",
       "        vertical-align: top;\n",
       "    }\n",
       "\n",
       "    .dataframe thead th {\n",
       "        text-align: right;\n",
       "    }\n",
       "</style>\n",
       "<table border=\"1\" class=\"dataframe\">\n",
       "  <thead>\n",
       "    <tr style=\"text-align: right;\">\n",
       "      <th></th>\n",
       "      <th>Unnamed: 0</th>\n",
       "      <th>Start</th>\n",
       "      <th>Target</th>\n",
       "      <th>Distance</th>\n",
       "    </tr>\n",
       "  </thead>\n",
       "  <tbody>\n",
       "    <tr>\n",
       "      <th>0</th>\n",
       "      <td>0</td>\n",
       "      <td>Aberdeen</td>\n",
       "      <td>Aberdeen</td>\n",
       "      <td>0</td>\n",
       "    </tr>\n",
       "    <tr>\n",
       "      <th>1</th>\n",
       "      <td>1</td>\n",
       "      <td>Aberdeen</td>\n",
       "      <td>Adelaide</td>\n",
       "      <td>16192</td>\n",
       "    </tr>\n",
       "    <tr>\n",
       "      <th>2</th>\n",
       "      <td>2</td>\n",
       "      <td>Aberdeen</td>\n",
       "      <td>Algiers</td>\n",
       "      <td>2291</td>\n",
       "    </tr>\n",
       "    <tr>\n",
       "      <th>3</th>\n",
       "      <td>3</td>\n",
       "      <td>Aberdeen</td>\n",
       "      <td>Amsterdam</td>\n",
       "      <td>696</td>\n",
       "    </tr>\n",
       "    <tr>\n",
       "      <th>4</th>\n",
       "      <td>4</td>\n",
       "      <td>Aberdeen</td>\n",
       "      <td>Ankara</td>\n",
       "      <td>3158</td>\n",
       "    </tr>\n",
       "    <tr>\n",
       "      <th>5</th>\n",
       "      <td>5</td>\n",
       "      <td>Aberdeen</td>\n",
       "      <td>Asuncin</td>\n",
       "      <td>10521</td>\n",
       "    </tr>\n",
       "    <tr>\n",
       "      <th>6</th>\n",
       "      <td>6</td>\n",
       "      <td>Aberdeen</td>\n",
       "      <td>Athens</td>\n",
       "      <td>2849</td>\n",
       "    </tr>\n",
       "    <tr>\n",
       "      <th>7</th>\n",
       "      <td>7</td>\n",
       "      <td>Aberdeen</td>\n",
       "      <td>Auckland</td>\n",
       "      <td>17748</td>\n",
       "    </tr>\n",
       "    <tr>\n",
       "      <th>8</th>\n",
       "      <td>8</td>\n",
       "      <td>Aberdeen</td>\n",
       "      <td>Bangkok</td>\n",
       "      <td>9469</td>\n",
       "    </tr>\n",
       "  </tbody>\n",
       "</table>\n",
       "</div>"
      ],
      "text/plain": [
       "   Unnamed: 0     Start     Target  Distance\n",
       "0           0  Aberdeen   Aberdeen         0\n",
       "1           1  Aberdeen   Adelaide     16192\n",
       "2           2  Aberdeen    Algiers      2291\n",
       "3           3  Aberdeen  Amsterdam       696\n",
       "4           4  Aberdeen     Ankara      3158\n",
       "5           5  Aberdeen    Asuncin     10521\n",
       "6           6  Aberdeen     Athens      2849\n",
       "7           7  Aberdeen   Auckland     17748\n",
       "8           8  Aberdeen    Bangkok      9469"
      ]
     },
     "execution_count": 2,
     "metadata": {},
     "output_type": "execute_result"
    }
   ],
   "source": [
    "# Preview\n",
    "df.head(9)"
   ]
  },
  {
   "cell_type": "code",
   "execution_count": 5,
   "id": "bedcb1b1-85c0-4fe0-be22-8c6dede1fe17",
   "metadata": {},
   "outputs": [],
   "source": [
    "# Get all distances in a list\n",
    "distances = [i for i in df[\"Distance\"]]\n",
    "\n",
    "# Convert list into a distance matrix\n",
    "number_of_cities = len(pd.unique(df[\"Start\"]))\n",
    "chunked_dist = [distances[i:i + number_of_cities] for i in range(0, len(distances), number_of_cities)]\n",
    "distance_matrix = np.matrix(chunked_dist)"
   ]
  },
  {
   "cell_type": "code",
   "execution_count": 8,
   "id": "c3548b3f-b491-4141-a586-f5d1587f42f3",
   "metadata": {},
   "outputs": [],
   "source": [
    "# List including total travel distance for each run\n",
    "total_travel_distances = []\n",
    "\n",
    "for _ in range(10000):\n",
    "    # Generete random travel points\n",
    "    travel_points = [i for i in range(number_of_cities)]\n",
    "    random.shuffle(travel_points)\n",
    "\n",
    "    travel_distance = 0\n",
    "    # Start point for next travel\n",
    "    start = travel_points[0]\n",
    "\n",
    "    for i in travel_points[1:]:\n",
    "        # Add distance\n",
    "        travel_distance += distance_matrix.item((start, i))\n",
    "\n",
    "        # Change next travel start point\n",
    "        start = i\n",
    "\n",
    "    # Add travel from first to last point\n",
    "    travel_distance += distance_matrix.item((start, travel_points[0]))\n",
    "\n",
    "    # Add total distance to list\n",
    "    total_travel_distances.append(travel_distance)"
   ]
  },
  {
   "cell_type": "code",
   "execution_count": 9,
   "id": "da94fe19-6826-4197-9ae1-5b02fdb7a4e3",
   "metadata": {},
   "outputs": [
    {
     "name": "stdout",
     "output_type": "stream",
     "text": [
      "Total travels:  10000\n",
      "Avg. travel time: 991401\n"
     ]
    }
   ],
   "source": [
    "# Printing some statistics\n",
    "avg_time = int(sum(total_travel_distances) / len(total_travel_distances))\n",
    "print(\"Total travels: \", len(total_travel_distances))\n",
    "print(\"Avg. travel time:\", avg_time)"
   ]
  },
  {
   "cell_type": "code",
   "execution_count": 10,
   "id": "ed1cea48-d6fc-4f75-8630-0456c3aceb9b",
   "metadata": {},
   "outputs": [
    {
     "data": {
      "image/png": "[encoded data removed]",
      "text/plain": [
       "<Figure size 576x396 with 1 Axes>"
      ]
     },
     "metadata": {},
     "output_type": "display_data"
    }
   ],
   "source": [
    "from matplotlib import pyplot as plt\n",
    "\n",
    "# Plotting\n",
    "plt.style.use('seaborn')\n",
    "plt.plot(total_travel_distances)\n",
    "plt.xlabel('Random try')\n",
    "plt.ylabel('Distances travelled')\n",
    "\n",
    "plt.show()"
   ]
  }
 ],
 "metadata": {
  "kernelspec": {
   "display_name": "Python 3 (ipykernel)",
   "language": "python",
   "name": "python3"
  },
  "language_info": {
   "codemirror_mode": {
    "name": "ipython",
    "version": 3
   },
   "file_extension": ".py",
   "mimetype": "text/x-python",
   "name": "python",
   "nbconvert_exporter": "python",
   "pygments_lexer": "ipython3",
   "version": "3.9.7"
  }
 },
 "nbformat": 4,
 "nbformat_minor": 5
}
